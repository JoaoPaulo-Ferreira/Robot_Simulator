{
 "cells": [
  {
   "cell_type": "code",
   "execution_count": 23,
   "metadata": {},
   "outputs": [
    {
     "name": "stdout",
     "output_type": "stream",
     "text": [
      "[1.88177e+03 2.94000e+00 1.90300e+01 9.53555e+02 1.63200e-01]\n",
      "[1861.57      3.01     19.19    898.5175    2.661 ]\n"
     ]
    }
   ],
   "source": [
    "import numpy as np\n",
    "\n",
    "rrt_data = np.loadtxt(\"rrt_data.txt\", delimiter=',')\n",
    "rrt_star_data = np.loadtxt(\"rrt_star_data.txt\", delimiter=',')\n",
    "\n",
    "rrt_mean = np.zeros(5)\n",
    "rrt_star_mean = np.zeros(5)\n",
    "\n",
    "# TIME | UPD_PATH | NODES NUM | DIST | RRT_PROC_TIME\n",
    "\n",
    "for i in range(5):\n",
    "    rrt_mean[i] = np.mean(rrt_data[:,i])\n",
    "    rrt_star_mean[i] = np.mean(rrt_star_data[:,i])\n",
    "\n",
    "print(rrt_data[0,:])\n",
    "print(rrt_mean)\n",
    "print(rrt_star_mean)"
   ]
  }
 ],
 "metadata": {
  "kernelspec": {
   "display_name": "Python 3",
   "language": "python",
   "name": "python3"
  },
  "language_info": {
   "codemirror_mode": {
    "name": "ipython",
    "version": 3
   },
   "file_extension": ".py",
   "mimetype": "text/x-python",
   "name": "python",
   "nbconvert_exporter": "python",
   "pygments_lexer": "ipython3",
   "version": "3.7.6"
  }
 },
 "nbformat": 4,
 "nbformat_minor": 4
}
